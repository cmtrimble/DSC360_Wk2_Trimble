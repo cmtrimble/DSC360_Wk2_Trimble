{
 "cells": [
  {
   "metadata": {
    "ExecuteTime": {
     "end_time": "2024-09-07T02:13:19.715594Z",
     "start_time": "2024-09-07T02:13:19.474361Z"
    }
   },
   "cell_type": "code",
   "source": [
    "import requests\n",
    "\n",
    "response = requests.get('https://bored-api.appbrewery.com/random')\n",
    "print(response.json())\n",
    "print()\n",
    "\n",
    "\n",
    "url = 'https://bored-api.appbrewery.com/random'\n",
    "params = {\n",
    "    'key': 1572120\n",
    "}\n",
    "response = requests.get(url, params=params)\n",
    "if response.status_code == 200:\n",
    "    specific_activity = response.json()\n",
    "    print(\"\\nSpecific Activity:\")\n",
    "    print(f\"Activity: {specific_activity['activity']}\")\n",
    "    print(f\"Key: {specific_activity['key']}\")\n",
    "    print(f\"Link: {specific_activity['link']}\")\n",
    "    print(f\"Participants: {specific_activity['participants']}\")\n",
    "    print(f\"Price: {specific_activity ['price']: .2f}\")\n",
    "    print(f\"Type: {specific_activity['type']}\")\n",
    "    print(f\"Accessibility: {specific_activity['accessibility']}\")\n",
    "else:\n",
    "    print(f\"Error: {response.status_code}\")\n"
   ],
   "id": "2bfafd79a5654a4c",
   "outputs": [
    {
     "name": "stdout",
     "output_type": "stream",
     "text": [
      "{'activity': 'Go see a Broadway production', 'availability': 0.3, 'type': 'recreational', 'participants': 4, 'price': 0.8, 'accessibility': 'Few to no challenges', 'duration': 'hours', 'kidFriendly': True, 'link': '', 'key': '4448913'}\n",
      "\n",
      "\n",
      "Specific Activity:\n",
      "Activity: Take a class at your local community center that interests you\n",
      "Key: 8750692\n",
      "Link: \n",
      "Participants: 1\n",
      "Price:  0.00\n",
      "Type: education\n",
      "Accessibility: Few to no challenges\n"
     ]
    }
   ],
   "execution_count": 2
  },
  {
   "metadata": {},
   "cell_type": "markdown",
   "source": [
    "Title: DSC360 Week 2 Exercise\n",
    "Author: Caleb Trimble\n",
    "Date: 06 September 2024\n",
    "Description: Basic Python function to retrieve API, create key, and pull specific activity from API.\n",
    "\n",
    "According to Python API Tutorial, importing 'requests' is the first step.\n",
    "Following that I linked the API url and pulled a random activity to attain the key. \n",
    "After printing, I directed the API (using the key) to find specific parameters. I then printed the results in the required format, using separate 'print' functions for each field."
   ],
   "id": "2c8bbbfbed94c2a"
  }
 ],
 "metadata": {
  "kernelspec": {
   "display_name": "Python 3",
   "language": "python",
   "name": "python3"
  },
  "language_info": {
   "codemirror_mode": {
    "name": "ipython",
    "version": 2
   },
   "file_extension": ".py",
   "mimetype": "text/x-python",
   "name": "python",
   "nbconvert_exporter": "python",
   "pygments_lexer": "ipython2",
   "version": "2.7.6"
  }
 },
 "nbformat": 4,
 "nbformat_minor": 5
}
